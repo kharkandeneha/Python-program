{
 "cells": [
  {
   "cell_type": "markdown",
   "id": "29455457",
   "metadata": {},
   "source": [
    "## Q.1 Solve the problem statement : \n",
    "If n is odd, print Weird\n",
    "If n is even and in the inclusive range of 2 to 5, print Not Weird\n",
    "If n is even and in the inclusive range of 6 to 20, print Weird\n",
    "If n is even and greater than 20, print Not Weird\n"
   ]
  },
  {
   "cell_type": "code",
   "execution_count": 1,
   "id": "059a36ef",
   "metadata": {},
   "outputs": [
    {
     "name": "stdout",
     "output_type": "stream",
     "text": [
      "Enter a number: 5\n",
      "Weird\n"
     ]
    }
   ],
   "source": [
    "def number(n):\n",
    "    if n % 2 != 0:\n",
    "        print(\"Weird\")\n",
    "    else:\n",
    "        if 2 <= n <= 5 or (n > 20):\n",
    "            print(\"Not Weird\")\n",
    "        elif 6 <= n <= 20:\n",
    "            print(\"Weird\")\n",
    "\n",
    "n = int(input(\"Enter a number: \"))\n",
    "number(n)"
   ]
  },
  {
   "cell_type": "markdown",
   "id": "f61dbce7",
   "metadata": {},
   "source": [
    "## Q.2 Solve this :\n",
    "The included code stub will read an integer, n, from STDIN. Without using any string methods, try to print the following: 123……..n\n",
    "Note that \"...\" represents the consecutive values in between.\n",
    "Example\n",
    "n = 5\n",
    "\n",
    "Print the string 12345 .\n",
    "\n",
    "Input Format\n",
    "The first line contains an integer n.\n",
    "\n",
    "Constraints\n",
    "1 ≤ n ≤ 150\n",
    "Output Format\n",
    "Print the list of integers from 1 through n as a string, without spaces."
   ]
  },
  {
   "cell_type": "code",
   "execution_count": 2,
   "id": "f928de2a",
   "metadata": {},
   "outputs": [
    {
     "name": "stdout",
     "output_type": "stream",
     "text": [
      "Enter an integer (1 ≤ n ≤ 150): 6\n",
      "123456"
     ]
    }
   ],
   "source": [
    " n = int(input(\"Enter an integer (1 ≤ n ≤ 150): \"))\n",
    "if 1 <= n <= 150:\n",
    "    for i in range(1, n + 1):\n",
    "        print(i, end=\"\")\n",
    "else:\n",
    "    print(\"Invalid input.\")\n"
   ]
  },
  {
   "cell_type": "markdown",
   "id": "6f3e864c",
   "metadata": {},
   "source": [
    "## Q.3 Task\n",
    "Let’s learn about list comprehension! You are given three integers x, y, and z representing the dimensions of a cuboid along with an integer n. Print a list of all possible coordinates given by (i, j, k) on a 3D grid where the sum of i + j + k is not equal to n. Here, 0 <= i <= x; 0 <= j <= y; 0 <= k <= z. Please use list comprehensions rather than multiple loops, as a learning exercise.\n",
    "\n",
    "Example\n",
    "x = 1\n",
    "y = 1\n",
    "z = 2\n",
    "n = 3 \n",
    "All permutations of [i, j, k] are:\n",
    "[[0, 0, 0], [0, 0, 1], [0, 0, 2], [0, 1, 0], [0, 1, 1], [0, 1, 2], [1, 0, 0], [1, 0, 1], [1, 0, 2], [1, 1, 0], [1, 1, 1], [1, 1, 2]].\n",
    "Print an array of the elements that do not sum to n = 3.\n",
    "[[0, 0, 0], [0, 0, 1], [0, 0, 2], [0, 1, 0], [0, 1, 1], [1, 0, 0], [1, 0, 1],  [1, 1, 0],  [1, 1, 2]]\n",
    "Input Format\n",
    "Four integers x, y, z and n, each on a separate line.\n",
    "\n",
    "Constraints\n",
    "Print the list in lexicographic increasing order."
   ]
  },
  {
   "cell_type": "code",
   "execution_count": 6,
   "id": "15985244",
   "metadata": {},
   "outputs": [
    {
     "name": "stdout",
     "output_type": "stream",
     "text": [
      "1\n",
      "1\n",
      "2\n",
      "3\n",
      "[[0, 0, 0], [0, 0, 1], [0, 0, 2], [0, 1, 0], [0, 1, 1], [1, 0, 0], [1, 0, 1], [1, 1, 0], [1, 1, 2]]\n"
     ]
    }
   ],
   "source": [
    "x = int(input())\n",
    "y = int(input())\n",
    "z = int(input())\n",
    "n = int(input())\n",
    "\n",
    "coordinates = [[i, j, k] for i in range(x + 1) for j in range(y + 1) for k in range(z + 1) if i + j + k != n]\n",
    "print(coordinates)"
   ]
  },
  {
   "cell_type": "markdown",
   "id": "a936fd0e",
   "metadata": {},
   "source": [
    "## Q.4 Task\n",
    "Given the participants’ score sheet for your University Sports Day, you must find the runner-up score. You are given n scores. Store them in a list and find the score of the runner-up.\n",
    "\n",
    "Input Format\n",
    "The first line contains n. The second line contains an array A[] of n integers are each separated by a space.\n",
    "Constraints\n",
    "2 ≤  n ≤  10\n",
    "-100 ≤  A[i] ≤ 100\n",
    "\n",
    "Output Format\n",
    "Print the runner-up score.\n",
    "\n",
    "Sample Input 0\n",
    "5\n",
    "\n",
    "2 3 6 6 5\n",
    "Sample Output 0\n",
    "5\n",
    " \n",
    "Explanation 0\n",
    "The given list is [2, 3, 6, 6, 5]. The maximum score is 6, the second maximum score is 5. Hence, we print 5 as the runner-up score.\n",
    "\n"
   ]
  },
  {
   "cell_type": "code",
   "execution_count": 5,
   "id": "ad85ea02",
   "metadata": {},
   "outputs": [
    {
     "name": "stdout",
     "output_type": "stream",
     "text": [
      "5\n",
      "2 3 6 6 5\n",
      "Runner-up score: 5\n"
     ]
    }
   ],
   "source": [
    "n = int(input())\n",
    "\n",
    "arr = map(int,input().split())\n",
    "\n",
    "unique_arr = set(arr)\n",
    "\n",
    "max_arr = max(unique_arr)\n",
    "unique_arr.remove(max_arr)\n",
    "    \n",
    "runner_up_arr = max(unique_arr)\n",
    "\n",
    "print(\"Runner-up score:\", runner_up_arr)\n"
   ]
  },
  {
   "cell_type": "code",
   "execution_count": null,
   "id": "9344881d",
   "metadata": {},
   "outputs": [],
   "source": []
  }
 ],
 "metadata": {
  "kernelspec": {
   "display_name": "Python 3 (ipykernel)",
   "language": "python",
   "name": "python3"
  },
  "language_info": {
   "codemirror_mode": {
    "name": "ipython",
    "version": 3
   },
   "file_extension": ".py",
   "mimetype": "text/x-python",
   "name": "python",
   "nbconvert_exporter": "python",
   "pygments_lexer": "ipython3",
   "version": "3.10.9"
  }
 },
 "nbformat": 4,
 "nbformat_minor": 5
}
