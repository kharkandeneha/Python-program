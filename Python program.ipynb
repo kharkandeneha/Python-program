{
 "cells": [
  {
   "cell_type": "markdown",
   "id": "f2b5d526",
   "metadata": {},
   "source": [
    "# Q.1 Check if a number is even or odd:"
   ]
  },
  {
   "cell_type": "code",
   "execution_count": 2,
   "id": "e414d574",
   "metadata": {},
   "outputs": [
    {
     "name": "stdout",
     "output_type": "stream",
     "text": [
      "Enter a number: 56\n",
      "Number is even 56\n"
     ]
    }
   ],
   "source": [
    "def even_odd(num):\n",
    "    if num % 2 == 0:\n",
    "        print(\"Number is even\",num)\n",
    "    else:\n",
    "        print(\"Number is odd.\",num)\n",
    "\n",
    "num = int(input(\"Enter a number: \"))\n",
    "even_odd(num)"
   ]
  },
  {
   "cell_type": "markdown",
   "id": "c20c0ab6",
   "metadata": {},
   "source": [
    "## Q.2 Check if a character is a vowel or consonant:"
   ]
  },
  {
   "cell_type": "code",
   "execution_count": 5,
   "id": "bde9d300",
   "metadata": {},
   "outputs": [
    {
     "name": "stdout",
     "output_type": "stream",
     "text": [
      "Enter a character: b\n",
      "character is consonant\n"
     ]
    }
   ],
   "source": [
    "def check_vowel_consonant(char):\n",
    "    vowels = \"aeiouAEIOU\"\n",
    "    if char in vowels:\n",
    "        print(\"character is vowel\")\n",
    "    else:\n",
    "        print(\"character is consonant\")\n",
    "        \n",
    "character = input(\"Enter a character: \")\n",
    "check_vowel_consonant(character)"
   ]
  },
  {
   "cell_type": "markdown",
   "id": "2ac24baf",
   "metadata": {},
   "source": [
    "## Q.3 Count vowels and consonants in a string:"
   ]
  },
  {
   "cell_type": "code",
   "execution_count": 6,
   "id": "8fece694",
   "metadata": {},
   "outputs": [
    {
     "name": "stdout",
     "output_type": "stream",
     "text": [
      "Enter a string: hello world\n",
      "Vowels: 3 Consonants: 7\n"
     ]
    }
   ],
   "source": [
    "def count_vowels_consonants(string):\n",
    "    vowels = \"aeiouAEIOU\"\n",
    "    vowel_count = 0\n",
    "    consonant_count = 0\n",
    "\n",
    "    for char in string:\n",
    "        if char.isalpha():\n",
    "            if char in vowels:\n",
    "                vowel_count += 1\n",
    "            else:\n",
    "                consonant_count += 1\n",
    "\n",
    "    print(\"Vowels:\" ,vowel_count, \"Consonants:\",consonant_count)\n",
    "\n",
    "\n",
    "input_string = input(\"Enter a string: \")\n",
    "count_vowels_consonants(input_string)"
   ]
  },
  {
   "cell_type": "markdown",
   "id": "3ffbc67a",
   "metadata": {},
   "source": [
    "## Q.4 Remove spaces from a string without using inbuilt functions:"
   ]
  },
  {
   "cell_type": "code",
   "execution_count": 8,
   "id": "c0d9b91e",
   "metadata": {},
   "outputs": [
    {
     "name": "stdout",
     "output_type": "stream",
     "text": [
      "Enter a string with spaces: biryani is my favourite food\n",
      "String after removing spaces: biryaniismyfavouritefood\n"
     ]
    }
   ],
   "source": [
    "def remove_spaces(string):\n",
    "    result_str = \"\"\n",
    "\n",
    "    for char in string:\n",
    "        if char != ' ':\n",
    "            result_str += char\n",
    "\n",
    "    print(\"String after removing spaces:\", result_str)\n",
    "\n",
    "\n",
    "string = input(\"Enter a string with spaces: \")\n",
    "remove_spaces(string)"
   ]
  },
  {
   "cell_type": "code",
   "execution_count": null,
   "id": "aa24181b",
   "metadata": {},
   "outputs": [],
   "source": []
  }
 ],
 "metadata": {
  "kernelspec": {
   "display_name": "Python 3 (ipykernel)",
   "language": "python",
   "name": "python3"
  },
  "language_info": {
   "codemirror_mode": {
    "name": "ipython",
    "version": 3
   },
   "file_extension": ".py",
   "mimetype": "text/x-python",
   "name": "python",
   "nbconvert_exporter": "python",
   "pygments_lexer": "ipython3",
   "version": "3.10.9"
  }
 },
 "nbformat": 4,
 "nbformat_minor": 5
}
