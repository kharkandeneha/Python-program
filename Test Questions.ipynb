{
 "cells": [
  {
   "cell_type": "markdown",
   "id": "c3eff24b",
   "metadata": {},
   "source": [
    "## Q.1 Write a Python program to check if a string is a palindrome"
   ]
  },
  {
   "cell_type": "code",
   "execution_count": 3,
   "id": "221b195f",
   "metadata": {},
   "outputs": [
    {
     "name": "stdout",
     "output_type": "stream",
     "text": [
      "Enter string:radar\n",
      "The string is a Palindrome.\n",
      "None\n"
     ]
    }
   ],
   "source": [
    "def is_Palindrome(string):\n",
    "    \n",
    "    if (string == string[::-1]):\n",
    "        print(\"The string is a Palindrome.\")\n",
    "    else:\n",
    "        print(\"The string is not a Palindrome. \")\n",
    "        \n",
    "string = input(\"Enter string:\")\n",
    "print (is_Palindrome(string))\n",
    "        "
   ]
  },
  {
   "cell_type": "markdown",
   "id": "e0a1d806",
   "metadata": {},
   "source": [
    "## Q.2 Write a Python program to find the factorial of a number?"
   ]
  },
  {
   "cell_type": "code",
   "execution_count": 4,
   "id": "4106ee58",
   "metadata": {},
   "outputs": [
    {
     "name": "stdout",
     "output_type": "stream",
     "text": [
      "Enter a number: 5\n",
      "Factorial of 5 is 120\n"
     ]
    }
   ],
   "source": [
    "def factorial(n):\n",
    "    if n == 0:\n",
    "        return 1\n",
    "    else:\n",
    "        return n * factorial(n-1)\n",
    "\n",
    "num = int(input(\"Enter a number: \"))\n",
    "print(\"Factorial of\", num, \"is\", factorial(num))"
   ]
  },
  {
   "cell_type": "markdown",
   "id": "4d858313",
   "metadata": {},
   "source": [
    "## Q.3 Write a Python program to find the largest element in a list?"
   ]
  },
  {
   "cell_type": "code",
   "execution_count": 5,
   "id": "50153b41",
   "metadata": {},
   "outputs": [
    {
     "name": "stdout",
     "output_type": "stream",
     "text": [
      "The largest element in the list is: 20\n"
     ]
    }
   ],
   "source": [
    "def find_largest(lst):\n",
    "    if not lst:\n",
    "        return None  \n",
    "    else:\n",
    "        return max(lst)\n",
    "\n",
    "my_list = [10, 5, 20, 8, 15]\n",
    "largest = find_largest(my_list)\n",
    "print(\"The largest element in the list is:\", largest)\n"
   ]
  },
  {
   "cell_type": "markdown",
   "id": "2175a9b1",
   "metadata": {},
   "source": [
    "## Q.4  Write a Python program to reverse a string?"
   ]
  },
  {
   "cell_type": "code",
   "execution_count": 6,
   "id": "5dc1b63e",
   "metadata": {},
   "outputs": [
    {
     "name": "stdout",
     "output_type": "stream",
     "text": [
      "Original string: hello world\n",
      "Reversed string: dlrow olleh\n"
     ]
    }
   ],
   "source": [
    "def reverse_string(string):\n",
    "    return string[::-1]\n",
    "\n",
    "my_string = \"hello world\"\n",
    "reversed_string = reverse_string(my_string)\n",
    "print(\"Original string:\", my_string)\n",
    "print(\"Reversed string:\", reversed_string)\n"
   ]
  },
  {
   "cell_type": "markdown",
   "id": "d8f6d3f8",
   "metadata": {},
   "source": [
    "## Q.5 Write a Python program to count the frequency of each element in a list?"
   ]
  },
  {
   "cell_type": "code",
   "execution_count": 14,
   "id": "63c5e6fb",
   "metadata": {},
   "outputs": [
    {
     "name": "stdout",
     "output_type": "stream",
     "text": [
      "{'A': 3, 'B': 3, 'C': 1, 'D': 2}\n"
     ]
    }
   ],
   "source": [
    "random_list = ['A', 'A', 'B', 'C', 'B', 'D', 'D', 'A', 'B']\n",
    "frequency = {}\n",
    "for item in random_list:\n",
    "    if item in frequency:\n",
    "        frequency[item] += 1\n",
    "    else:\n",
    "        frequency[item] = 1\n",
    "\n",
    "print(frequency)\n"
   ]
  },
  {
   "cell_type": "markdown",
   "id": "f60b8ad9",
   "metadata": {},
   "source": [
    "## Q.6 Write a Python program to check if a number is prime?"
   ]
  },
  {
   "cell_type": "code",
   "execution_count": 11,
   "id": "6c5224d4",
   "metadata": {},
   "outputs": [
    {
     "name": "stdout",
     "output_type": "stream",
     "text": [
      "11 is a prime number\n"
     ]
    }
   ],
   "source": [
    "num = 11\n",
    "if num > 1:\n",
    "    for i in range(2, (num//2)+1):\n",
    "        if (num % i) == 0:\n",
    "            print(num, \"is not a prime number\")\n",
    "            break\n",
    "    else:\n",
    "        print(num, \"is a prime number\")\n",
    "else:\n",
    "    print(num, \"is not a prime number\")"
   ]
  },
  {
   "cell_type": "markdown",
   "id": "f497f6e8",
   "metadata": {},
   "source": [
    "## Q.7 Write a Python program to find the common elements between two lists?"
   ]
  },
  {
   "cell_type": "code",
   "execution_count": 15,
   "id": "89cb8361",
   "metadata": {},
   "outputs": [
    {
     "name": "stdout",
     "output_type": "stream",
     "text": [
      "The common elements are: {2, 3, 5}\n"
     ]
    }
   ],
   "source": [
    "a = [1, 2, 3, 4, 5]\n",
    "b = [5, 2, 6, 3, 9]\n",
    "\n",
    "result = (set(a) & set(b))\n",
    "\n",
    "if result:\n",
    "    print(\"The common elements are:\", result)\n",
    "else:\n",
    "    print(\"No common elements present in two arrays\")"
   ]
  },
  {
   "cell_type": "markdown",
   "id": "993bbdab",
   "metadata": {},
   "source": [
    "## Q.8 Write a Python program to sort a list of elements using the bubble sort algorithm?"
   ]
  },
  {
   "cell_type": "code",
   "execution_count": 16,
   "id": "8e8ea0d3",
   "metadata": {},
   "outputs": [
    {
     "name": "stdout",
     "output_type": "stream",
     "text": [
      "Original list: [64, 34, 25, 12, 22, 11, 90]\n",
      "Sorted list: [11, 12, 22, 25, 34, 64, 90]\n"
     ]
    }
   ],
   "source": [
    "def bubble_sort(lst):\n",
    "    n = len(lst)\n",
    "    for i in range(n):\n",
    "        for j in range(0, n-i-1):\n",
    "            if lst[j] > lst[j+1]:\n",
    "                lst[j], lst[j+1] = lst[j+1], lst[j]\n",
    "\n",
    "my_list = [64, 34, 25, 12, 22, 11, 90]\n",
    "print(\"Original list:\", my_list)\n",
    "bubble_sort(my_list)\n",
    "print(\"Sorted list:\", my_list)\n"
   ]
  },
  {
   "cell_type": "markdown",
   "id": "61036cba",
   "metadata": {},
   "source": [
    "## Q.9 Write a Python program to find the second largest number in a list?"
   ]
  },
  {
   "cell_type": "code",
   "execution_count": 19,
   "id": "1afea2c4",
   "metadata": {},
   "outputs": [
    {
     "name": "stdout",
     "output_type": "stream",
     "text": [
      "Enter number of elements:4\n",
      "Enter element:100\n",
      "Enter element:200\n",
      "Enter element:300\n",
      "Enter element:400\n",
      "Second largest element is: 300\n"
     ]
    }
   ],
   "source": [
    "a=[]\n",
    "n=int(input(\"Enter number of elements:\"))\n",
    "for i in range(1,n+1):\n",
    "    b=int(input(\"Enter element:\"))\n",
    "    a.append(b)\n",
    "a.sort()\n",
    "print(\"Second largest element is:\",a[n-2])"
   ]
  },
  {
   "cell_type": "markdown",
   "id": "9b7bf36c",
   "metadata": {},
   "source": [
    "# Q.10 Write a Python program to remove duplicates from a list?"
   ]
  },
  {
   "cell_type": "code",
   "execution_count": 20,
   "id": "4fb81f39",
   "metadata": {},
   "outputs": [
    {
     "name": "stdout",
     "output_type": "stream",
     "text": [
      "Original list: [1, 2, 2, 3, 4, 4, 5]\n",
      "[1, 2, 3, 4, 5]\n"
     ]
    }
   ],
   "source": [
    "def remove_duplicates(lst):\n",
    "    return list(set(lst))\n",
    "\n",
    "my_list = [1, 2, 2, 3, 4, 4, 5]\n",
    "print(\"Original list:\", my_list)\n",
    "\n",
    "unique_list = remove_duplicates(my_list)\n",
    "print(unique_list)\n"
   ]
  },
  {
   "cell_type": "markdown",
   "id": "8d93cf0f",
   "metadata": {},
   "source": [
    "## Q.11 What is Python?How do you comment in Python?\n",
    "Python is a high-level, interpreted programming language known for its simplicity and readability.\n",
    "It was created by Guido van Rossum and first released in 1991.\n",
    "Python supports multiple programming paradigms including object-oriented, imperative, functional, \n",
    "and procedural styles. \n",
    "\n",
    "Single-line comments: \n",
    "These comments begin with the # symbol and extend to the end of the line. They are used for brief explanations or annotations.\n",
    "[#This is a single-line comment in Python]\n",
    "\n",
    "Multi-line comments (docstrings): These comments are enclosed within triple quotes (''' or \"\"\") and can span multiple lines. They are typically used for function, class, or module documentation."
   ]
  },
  {
   "cell_type": "markdown",
   "id": "70b3bf31",
   "metadata": {},
   "source": [
    "## Q.12 What are the key features of Python?\n",
    "\n",
    "Simple and Easy to Learn: \n",
    "Python has a simple and clean syntax, making it easy for beginners to learn and read code. \n",
    "Its readability contributes to reduced development time and maintenance costs.\n",
    "\n",
    "Expressive Language: \n",
    "Python allows developers to write concise and expressive code,\n",
    "enabling them to focus on solving problems rather than dealing with syntax complexities.\n",
    "\n",
    "Interpreted and Interactive:\n",
    "Python is an interpreted language, which means that code is executed line by line. \n",
    "This allows for quicker development cycles as developers can immediately see the results of their code.\n",
    "Python also supports interactive mode, where commands can be entered and executed interactively\n",
    "from a terminal or IDE.\n",
    "\n",
    "Platform-independent:\n",
    "Python code is portable and can run on various operating systems, including Windows, macOS, Linux, and Unix. \n",
    "This makes Python suitable for developing cross-platform applications.\n",
    "\n",
    "High-level Language: \n",
    "Python abstracts low-level details, such as memory management and hardware interactions, \n",
    "allowing developers to focus on solving problems at a higher level of abstraction."
   ]
  },
  {
   "cell_type": "markdown",
   "id": "e9a61873",
   "metadata": {},
   "source": [
    "## Q.13 Explain the difference between a list and a tuple?\n",
    "What is the purpose of the ‘self’ parameter in Python?\n",
    "\n",
    "list:Lists are mutable, meaning that their elements can be modified after creation.\n",
    "You can add, remove, or change elements in a list.\n",
    "Lists are enclosed in square brackets [ ] and elements are separated by commas.\n",
    "Due to their mutability, lists typically consume more memory and may have slower \n",
    "performance compared to tuples, especially for large collections of data.\n",
    "\n",
    "tuple:Tuples, on the other hand, are immutable, meaning that once they are created, \n",
    "their elements cannot be changed. \n",
    "You cannot add, remove, or modify elements in a tuple.\n",
    "Tuples are enclosed in parentheses ( ) and elements are separated by commas.\n",
    "Tuples are often used for fixed collections of data that should not be changed,\n",
    "such as representing coordinates, database records, or function return values.\n",
    "\n",
    "Purpose of the ‘self’ parameter in Python:\n",
    "\n",
    "In Python, the self parameter is used within methods of a \n",
    "class to refer to the current instance of the class. \n",
    "When you define a method in a class, you need to include self as the first parameter \n",
    "in the method definition."
   ]
  },
  {
   "cell_type": "markdown",
   "id": "fc60543d",
   "metadata": {},
   "source": [
    "## Q.14 What is a module in Python?\n",
    " \n",
    "A module in Python is a file containing Python code. \n",
    "It can define functions, classes, and variables that can be reused in other Python scripts.\n",
    "Modules allow for better organization and reusability of code.\n",
    "Python's standard library consists of many modules that provide useful functionalities for various tasks\n",
    "networking, mathematics, and more. \n",
    "Additionally, users can create their own modules to encapsulate related code and promote code reuse across projects."
   ]
  },
  {
   "cell_type": "markdown",
   "id": "8ddc559a",
   "metadata": {},
   "source": [
    "## Q.15 How do you handle exceptions in Python?\n",
    "\n",
    "Exceptions in Python can be handled using try-except blocks. \n",
    "The try block contains the code that may raise an exception, \n",
    "and the except block catches and handles the exception if it occurs."
   ]
  },
  {
   "cell_type": "markdown",
   "id": "b38fee91",
   "metadata": {},
   "source": [
    "## Q.16 What is the purpose of the ‘if name == “main”’ statement?\n",
    "\n",
    "The if __name__ == \"__main__\": statement is used to determine whether a \n",
    "Python script is being run as the main program or being \n",
    "imported as a module into another script. \n",
    "This allows for separating code that should only run when the script \n",
    "is executed directly from code that should not run when the script is imported.\n",
    "\n",
    "if __name__ == \"__main__\":\n",
    "    print(\"This script is being run directly.\")"
   ]
  },
  {
   "cell_type": "markdown",
   "id": "6ee0af7b",
   "metadata": {},
   "source": [
    "## Q.17 Explain the difference between ‘append()’ and ‘extend()’ methods for lists?\n",
    "\n",
    "append(): The append() method is used to add a single element to the end of a list."
   ]
  },
  {
   "cell_type": "code",
   "execution_count": 1,
   "id": "74a7054f",
   "metadata": {},
   "outputs": [
    {
     "name": "stdout",
     "output_type": "stream",
     "text": [
      "[1, 2, 3, 4]\n"
     ]
    }
   ],
   "source": [
    "my_list = [1, 2, 3]\n",
    "my_list.append(4)\n",
    "print(my_list) "
   ]
  },
  {
   "cell_type": "markdown",
   "id": "aa77589e",
   "metadata": {},
   "source": [
    "## Q.18 What is the ‘str’ function used for in Python?\n",
    "\n",
    "The str() function in Python is used to convert non-string data types \n",
    "(such as integers, floats, lists, tuples, etc.) to a string data type. \n",
    "It returns a string representation of the specified object."
   ]
  },
  {
   "cell_type": "code",
   "execution_count": 2,
   "id": "a026b924",
   "metadata": {},
   "outputs": [
    {
     "name": "stdout",
     "output_type": "stream",
     "text": [
      "123\n"
     ]
    }
   ],
   "source": [
    "num = 123\n",
    "str_num = str(num)\n",
    "print(str_num) "
   ]
  },
  {
   "cell_type": "markdown",
   "id": "90dd1c0a",
   "metadata": {},
   "source": [
    "## Q.19 Explain the difference between mutable and immutable data types in Python?\n",
    "\n",
    "Mutable: Mutable data types are those that can be changed or modified after they are created. \n",
    "Examples include lists, dictionaries, and sets.\n",
    "\n",
    "Immutable: Immutable data types are those that cannot be changed after they are created.\n",
    "Examples include integers, floats, strings and tuples."
   ]
  },
  {
   "cell_type": "markdown",
   "id": "3dc82599",
   "metadata": {},
   "source": [
    "## Q.20 How do you perform a shallow copy and a deep copy of a list in Python?\n",
    "\n",
    "Shallow Copy: A shallow copy creates a new object but does not create copies of nested objects.\n",
    "It copies the references to the objects. \n",
    "You can perform a shallow copy using the copy() method or the list() constructor."
   ]
  },
  {
   "cell_type": "code",
   "execution_count": 4,
   "id": "968b92b0",
   "metadata": {},
   "outputs": [
    {
     "data": {
      "text/plain": [
       "[1, 2, [3, 4]]"
      ]
     },
     "execution_count": 4,
     "metadata": {},
     "output_type": "execute_result"
    }
   ],
   "source": [
    "original_list = [1, 2, [3, 4]]\n",
    "shallow_copy = original_list.copy() \n",
    "shallow_copy"
   ]
  },
  {
   "cell_type": "markdown",
   "id": "f199379c",
   "metadata": {},
   "source": [
    "###### Deep Copy: \n",
    "    A deep copy creates a completely new object and recursively createscopies of all nested objects. \n",
    "You can perform a deep copy using the deepcopy() function from the copy module.\n",
    "\n"
   ]
  },
  {
   "cell_type": "code",
   "execution_count": 6,
   "id": "057b56f1",
   "metadata": {},
   "outputs": [],
   "source": [
    "import copy\n",
    "original_list = [1, 2, [3, 4]]\n",
    "deep_copy = copy.deepcopy(original_list)\n"
   ]
  },
  {
   "cell_type": "markdown",
   "id": "0de3c8bd",
   "metadata": {},
   "source": [
    "## Q.21 What is a decorator in Python?\n",
    "\n",
    "A decorator in Python is a design pattern that allows you to modify or extend the behavior\n",
    "of functions or methods without changing their actual implementation. \n",
    "Decorators are implemented using functions that take another function as an argument and return\n",
    "a new function that extends or modifies the behavior of the original function.\n"
   ]
  },
  {
   "cell_type": "code",
   "execution_count": 7,
   "id": "911f3a85",
   "metadata": {},
   "outputs": [
    {
     "name": "stdout",
     "output_type": "stream",
     "text": [
      "Before calling the function\n",
      "Inside the function\n",
      "After calling the function\n"
     ]
    }
   ],
   "source": [
    "def decorator(func):\n",
    "    def wrapper():\n",
    "        print(\"Before calling the function\")\n",
    "        func()\n",
    "        print(\"After calling the function\")\n",
    "    return wrapper\n",
    "\n",
    "@decorator\n",
    "def my_function():\n",
    "    print(\"Inside the function\")\n",
    "\n",
    "my_function()\n"
   ]
  },
  {
   "cell_type": "markdown",
   "id": "bf503488",
   "metadata": {},
   "source": [
    "## Q.22 How can you convert a string to an integer in Python?"
   ]
  },
  {
   "cell_type": "code",
   "execution_count": 9,
   "id": "9a149bb5",
   "metadata": {},
   "outputs": [
    {
     "name": "stdout",
     "output_type": "stream",
     "text": [
      "24137\n"
     ]
    }
   ],
   "source": [
    "num_str = \"24137\"\n",
    "num_int = int(num_str)\n",
    "print(num_int) "
   ]
  },
  {
   "cell_type": "markdown",
   "id": "3ab13c40",
   "metadata": {},
   "source": [
    "## Q.23 What is the purpose of the ‘pass’ statement in Python?\n",
    "\n",
    "The pass statement in Python is a null operation. \n",
    "It is used as a placeholder when a statement is syntactically required but you don't \n",
    "want to execute any code. It is often used as a placeholder in empty code blocks, \n",
    "function definitions, or conditional statements."
   ]
  },
  {
   "cell_type": "code",
   "execution_count": 12,
   "id": "5f967a24",
   "metadata": {},
   "outputs": [],
   "source": [
    "def my_function():\n",
    "    #  Implement this function later\n",
    "    pass"
   ]
  },
  {
   "cell_type": "markdown",
   "id": "a7d5157e",
   "metadata": {},
   "source": [
    "## Q.24 What is the purpose of the ‘range()’ function?"
   ]
  },
  {
   "cell_type": "code",
   "execution_count": 13,
   "id": "3dff2479",
   "metadata": {},
   "outputs": [
    {
     "name": "stdout",
     "output_type": "stream",
     "text": [
      "0\n",
      "1\n",
      "2\n",
      "3\n",
      "4\n",
      "5\n",
      "6\n",
      "7\n"
     ]
    }
   ],
   "source": [
    "for i in range(8):\n",
    "    print(i) \n"
   ]
  },
  {
   "cell_type": "markdown",
   "id": "941b8b23",
   "metadata": {},
   "source": [
    "## Q.25 What is a lambda function?"
   ]
  },
  {
   "cell_type": "code",
   "execution_count": 14,
   "id": "7f2fa10a",
   "metadata": {},
   "outputs": [
    {
     "name": "stdout",
     "output_type": "stream",
     "text": [
      "8\n"
     ]
    }
   ],
   "source": [
    "add = lambda x, y: x + y\n",
    "print(add(3, 5))"
   ]
  },
  {
   "cell_type": "markdown",
   "id": "ea43fb4b",
   "metadata": {},
   "source": [
    "## Q.26 Explain indexing and slicing in Python?"
   ]
  },
  {
   "cell_type": "code",
   "execution_count": 15,
   "id": "5733de82",
   "metadata": {},
   "outputs": [
    {
     "name": "stdout",
     "output_type": "stream",
     "text": [
      "1\n",
      "5\n"
     ]
    }
   ],
   "source": [
    "# Indexing\n",
    "my_list = [1, 2, 3, 4, 5]\n",
    "print(my_list[0])   \n",
    "print(my_list[-1]) "
   ]
  },
  {
   "cell_type": "code",
   "execution_count": 16,
   "id": "1ce8b2fc",
   "metadata": {},
   "outputs": [
    {
     "name": "stdout",
     "output_type": "stream",
     "text": [
      "[2, 3, 4]\n",
      "[1, 3, 5]\n"
     ]
    }
   ],
   "source": [
    "# Slicing\n",
    "my_list = [1, 2, 3, 4, 5]\n",
    "print(my_list[1:4])    \n",
    "print(my_list[::2]) "
   ]
  },
  {
   "cell_type": "markdown",
   "id": "6edad04b",
   "metadata": {},
   "source": [
    "## Q.27 How can you reverse a list in Python?"
   ]
  },
  {
   "cell_type": "code",
   "execution_count": 17,
   "id": "dad0a8f4",
   "metadata": {},
   "outputs": [
    {
     "name": "stdout",
     "output_type": "stream",
     "text": [
      "[5, 4, 3, 2, 1]\n"
     ]
    }
   ],
   "source": [
    "my_list = [1, 2, 3, 4, 5]\n",
    "reversed_list = my_list[::-1]\n",
    "print(reversed_list)  \n"
   ]
  },
  {
   "cell_type": "markdown",
   "id": "1c3c3fb4",
   "metadata": {},
   "source": [
    "## Q.28 What is the difference between ‘pop()’ and ‘remove()’ methods for lists?"
   ]
  },
  {
   "cell_type": "code",
   "execution_count": 18,
   "id": "61473969",
   "metadata": {},
   "outputs": [
    {
     "name": "stdout",
     "output_type": "stream",
     "text": [
      "[1, 2, 4, 5]\n",
      "3\n"
     ]
    }
   ],
   "source": [
    "# pop(): The pop() method removes and returns the element at the specified index.\n",
    "# If no index is specified, it removes and returns the last element of the list.\n",
    "\n",
    "my_list = [1, 2, 3, 4, 5]\n",
    "popped_element = my_list.pop(2)\n",
    "print(my_list)         \n",
    "print(popped_element)"
   ]
  },
  {
   "cell_type": "code",
   "execution_count": 19,
   "id": "12e1e970",
   "metadata": {},
   "outputs": [
    {
     "name": "stdout",
     "output_type": "stream",
     "text": [
      "[1, 2, 4, 5]\n"
     ]
    }
   ],
   "source": [
    "# remove(): The remove() method removes the first occurrence of the specified element from the list.\n",
    "\n",
    "my_list = [1, 2, 3, 4, 5]\n",
    "my_list.remove(3)\n",
    "print(my_list)"
   ]
  },
  {
   "cell_type": "markdown",
   "id": "2b1565ec",
   "metadata": {},
   "source": [
    "## Q.29 What is a set in Python? Difference between frozenset or NormalSet?"
   ]
  },
  {
   "cell_type": "code",
   "execution_count": 20,
   "id": "b528987e",
   "metadata": {},
   "outputs": [],
   "source": [
    "# A set in Python is an unordered collection of unique elements. \n",
    "# Sets are mutable, meaning their elements can be added or removed \n",
    "# after the set is created. Sets do not allow duplicate elements.\n",
    "\n",
    "my_set = {1, 2, 3, 4, 5}"
   ]
  },
  {
   "cell_type": "code",
   "execution_count": 22,
   "id": "3983c521",
   "metadata": {},
   "outputs": [],
   "source": [
    "# frozenset: A frozenset is an immutable version of a set.\n",
    "# Once created, its elements cannot be changed or modified.\n",
    "\n",
    "my_frozenset = frozenset({1, 2, 3, 4, 5})"
   ]
  },
  {
   "cell_type": "markdown",
   "id": "b61766d1",
   "metadata": {},
   "source": [
    "## Q.30 What is a dictionary comprehension in Python?"
   ]
  },
  {
   "cell_type": "code",
   "execution_count": 24,
   "id": "e8efce45",
   "metadata": {},
   "outputs": [
    {
     "name": "stdout",
     "output_type": "stream",
     "text": [
      "{1: 1, 2: 4, 3: 9, 4: 16, 5: 25}\n"
     ]
    }
   ],
   "source": [
    "# Dictionary comprehension is a concise and efficient way to create dictionaries in Python.\n",
    "# It allows you to generate dictionaries using a single line of code by specifying key-value \n",
    "# pairs and optional conditions.\n",
    "\n",
    "\n",
    "square_dict = {x: x*x for x in range(1, 6)}\n",
    "print(square_dict) "
   ]
  },
  {
   "cell_type": "markdown",
   "id": "426480b1",
   "metadata": {},
   "source": [
    "## Q.31 How can you convert a list of strings to a single string in Python?"
   ]
  },
  {
   "cell_type": "code",
   "execution_count": 25,
   "id": "1b9f23d6",
   "metadata": {},
   "outputs": [
    {
     "name": "stdout",
     "output_type": "stream",
     "text": [
      "Hello World !\n"
     ]
    }
   ],
   "source": [
    "my_list = [\"Hello\", \"World\", \"!\"]\n",
    "my_string = \" \".join(my_list)\n",
    "print(my_string) "
   ]
  },
  {
   "cell_type": "markdown",
   "id": "225b780c",
   "metadata": {},
   "source": [
    "## Q.32 How can you find the length of a string in Python?"
   ]
  },
  {
   "cell_type": "code",
   "execution_count": 26,
   "id": "01cdacc0",
   "metadata": {},
   "outputs": [
    {
     "name": "stdout",
     "output_type": "stream",
     "text": [
      "13\n"
     ]
    }
   ],
   "source": [
    "my_string = \"Hello, World!\"\n",
    "length = len(my_string)\n",
    "print(length)"
   ]
  },
  {
   "cell_type": "markdown",
   "id": "5337e3f1",
   "metadata": {},
   "source": [
    "## Q.33 How can you convert a string to uppercase and lowercase in Python?"
   ]
  },
  {
   "cell_type": "code",
   "execution_count": 29,
   "id": "7996ee87",
   "metadata": {},
   "outputs": [
    {
     "name": "stdout",
     "output_type": "stream",
     "text": [
      "NEHA\n",
      "neha\n"
     ]
    }
   ],
   "source": [
    "my_string = \"Neha\"\n",
    "upper_string = my_string.upper()\n",
    "lower_string = my_string.lower()\n",
    "print(upper_string)  \n",
    "print(lower_string)"
   ]
  },
  {
   "cell_type": "markdown",
   "id": "fa160667",
   "metadata": {},
   "source": [
    "## Q.34 How can you remove duplicates from a list in Python?"
   ]
  },
  {
   "cell_type": "code",
   "execution_count": 30,
   "id": "6071bfac",
   "metadata": {},
   "outputs": [
    {
     "name": "stdout",
     "output_type": "stream",
     "text": [
      "[100, 200, 300, 400, 500]\n"
     ]
    }
   ],
   "source": [
    "my_list = [100, 200, 200, 300, 300, 400, 500]\n",
    "unique_list = list(set(my_list))\n",
    "print(unique_list)  \n"
   ]
  },
  {
   "cell_type": "markdown",
   "id": "7af08930",
   "metadata": {},
   "source": [
    "## Q.35 Explain the purpose of the ‘random’ module in Python?\n",
    "\n",
    "The random module in Python provides functions for generating random numbers. It includes functions for generating random integers, floating-point numbers, selecting random elements from a sequence, shuffling sequences randomly, and more. The random module is commonly used in applications such as simulations, games, statistical analysis, cryptography, and random sampling.\n"
   ]
  },
  {
   "cell_type": "code",
   "execution_count": 32,
   "id": "cc506e54",
   "metadata": {},
   "outputs": [
    {
     "name": "stdout",
     "output_type": "stream",
     "text": [
      "3\n",
      "4\n"
     ]
    }
   ],
   "source": [
    "import random\n",
    "random_int = random.randint(1, 10)\n",
    "print(random_int)\n",
    "\n",
    "my_list = [1, 2, 3, 4, 5]\n",
    "random_element = random.choice(my_list)\n",
    "print(random_element)"
   ]
  },
  {
   "cell_type": "code",
   "execution_count": null,
   "id": "115fa2b1",
   "metadata": {},
   "outputs": [],
   "source": []
  }
 ],
 "metadata": {
  "kernelspec": {
   "display_name": "Python 3 (ipykernel)",
   "language": "python",
   "name": "python3"
  },
  "language_info": {
   "codemirror_mode": {
    "name": "ipython",
    "version": 3
   },
   "file_extension": ".py",
   "mimetype": "text/x-python",
   "name": "python",
   "nbconvert_exporter": "python",
   "pygments_lexer": "ipython3",
   "version": "3.10.9"
  }
 },
 "nbformat": 4,
 "nbformat_minor": 5
}
