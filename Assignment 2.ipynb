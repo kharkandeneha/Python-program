{
 "cells": [
  {
   "cell_type": "markdown",
   "id": "f8a150bc",
   "metadata": {},
   "source": [
    "## Assignment 2"
   ]
  },
  {
   "cell_type": "markdown",
   "id": "0c9885a4",
   "metadata": {},
   "source": [
    "### Q.1  Converting an Integer into Decimals ?"
   ]
  },
  {
   "cell_type": "code",
   "execution_count": 1,
   "id": "6e6d3557",
   "metadata": {},
   "outputs": [
    {
     "name": "stdout",
     "output_type": "stream",
     "text": [
      "78.0\n"
     ]
    }
   ],
   "source": [
    "a = 78\n",
    "b = float(a)\n",
    "print(b)"
   ]
  },
  {
   "cell_type": "markdown",
   "id": "ef4544bf",
   "metadata": {},
   "source": [
    "### Q.2  Converting an String of Integers into Decimals ?"
   ]
  },
  {
   "cell_type": "code",
   "execution_count": 2,
   "id": "eee33f5f",
   "metadata": {},
   "outputs": [
    {
     "name": "stdout",
     "output_type": "stream",
     "text": [
      "54687.0\n"
     ]
    }
   ],
   "source": [
    "String = \"54687\"\n",
    "Decimal = float(String)\n",
    "print(Decimal)"
   ]
  },
  {
   "cell_type": "markdown",
   "id": "3dcec1d9",
   "metadata": {},
   "source": [
    "### Q.3  Reversing a string using an Extended Slicing Technique ? "
   ]
  },
  {
   "cell_type": "code",
   "execution_count": 3,
   "id": "2546e393",
   "metadata": {},
   "outputs": [
    {
     "name": "stdout",
     "output_type": "stream",
     "text": [
      "!doof etiruovaf ym si ynayriB\n"
     ]
    }
   ],
   "source": [
    "original_string = \"Biryany is my favourite food!\"\n",
    "reversed_string = original_string[::-1]\n",
    "print(reversed_string)"
   ]
  },
  {
   "cell_type": "markdown",
   "id": "4be565fa",
   "metadata": {},
   "source": [
    "### Q.4  Counting the number of occurances of a character in a string ?"
   ]
  },
  {
   "cell_type": "code",
   "execution_count": 6,
   "id": "585eae02",
   "metadata": {},
   "outputs": [
    {
     "name": "stdout",
     "output_type": "stream",
     "text": [
      "Charcter : y  is Occurs in 3 time\n"
     ]
    }
   ],
   "source": [
    "str1 = \"Biryany is my favourite food!\"\n",
    "char_count = 'y'\n",
    "count = str1.count(char_count)\n",
    "print(\"Charcter :\",char_count,\" is Occurs in\",count,\"time\")"
   ]
  },
  {
   "cell_type": "markdown",
   "id": "61fd39a2",
   "metadata": {},
   "source": [
    "### Q.5 Find the Maximum and Minimum Number in a List:"
   ]
  },
  {
   "cell_type": "code",
   "execution_count": 11,
   "id": "5721599e",
   "metadata": {},
   "outputs": [
    {
     "name": "stdout",
     "output_type": "stream",
     "text": [
      "Maximum: 9 Minimum:  1\n"
     ]
    }
   ],
   "source": [
    "list1 = [5, 2, 9, 1, 7, 6, 3]\n",
    "max_num = max(list1)\n",
    "min_num = min(list1)\n",
    "print(\"Maximum:\",max_num,\"Minimum: \",min_num)"
   ]
  },
  {
   "cell_type": "markdown",
   "id": "1f3d10d4",
   "metadata": {},
   "source": [
    "### Q.6  Find the middle element in a list ? "
   ]
  },
  {
   "cell_type": "code",
   "execution_count": 12,
   "id": "d54a3076",
   "metadata": {},
   "outputs": [
    {
     "name": "stdout",
     "output_type": "stream",
     "text": [
      "The middle element is: 3\n"
     ]
    }
   ],
   "source": [
    "list2 = [1, 2, 3, 4, 5]\n",
    "middle_index = len(list2) // 2\n",
    "middle_element = list2[middle_index]\n",
    "print(\"The middle element is:\", middle_element)\n"
   ]
  },
  {
   "cell_type": "markdown",
   "id": "83e65d7d",
   "metadata": {},
   "source": [
    "### Q.7 Converting a List into a String:"
   ]
  },
  {
   "cell_type": "code",
   "execution_count": 13,
   "id": "39850849",
   "metadata": {},
   "outputs": [
    {
     "name": "stdout",
     "output_type": "stream",
     "text": [
      "Hello World\n"
     ]
    }
   ],
   "source": [
    "list3 = ['Hello', 'World']\n",
    "str = ' '.join(list3)\n",
    "print(str)"
   ]
  },
  {
   "cell_type": "markdown",
   "id": "c8819015",
   "metadata": {},
   "source": [
    "### Q.8 Adding Two List Elements Together:"
   ]
  },
  {
   "cell_type": "code",
   "execution_count": 14,
   "id": "0695498f",
   "metadata": {},
   "outputs": [
    {
     "name": "stdout",
     "output_type": "stream",
     "text": [
      "[1, 2, 3, 4, 5, 6]\n"
     ]
    }
   ],
   "source": [
    "list1 = [1, 2, 3]\n",
    "list2 = [4, 5, 6]\n",
    "sum_list = list1 + list2\n",
    "print(sum_list)"
   ]
  },
  {
   "cell_type": "code",
   "execution_count": null,
   "id": "bb29fb7e",
   "metadata": {},
   "outputs": [],
   "source": []
  }
 ],
 "metadata": {
  "kernelspec": {
   "display_name": "Python 3 (ipykernel)",
   "language": "python",
   "name": "python3"
  },
  "language_info": {
   "codemirror_mode": {
    "name": "ipython",
    "version": 3
   },
   "file_extension": ".py",
   "mimetype": "text/x-python",
   "name": "python",
   "nbconvert_exporter": "python",
   "pygments_lexer": "ipython3",
   "version": "3.10.9"
  }
 },
 "nbformat": 4,
 "nbformat_minor": 5
}
